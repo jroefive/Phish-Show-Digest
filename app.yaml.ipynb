{
 "cells": [
  {
   "cell_type": "code",
   "execution_count": null,
   "metadata": {},
   "outputs": [],
   "source": [
    "runtime: python3\n",
    "\n",
    "inbound_services:\n",
    "- warmup\n",
    "\n",
    "handlers:\n",
    "- url: /.*\n",
    "  secure: always\n",
    "  redirect_http_response_code: 301\n",
    "  script: auto"
   ]
  }
 ],
 "metadata": {
  "kernelspec": {
   "display_name": "Python 3",
   "language": "python",
   "name": "python3"
  },
  "language_info": {
   "codemirror_mode": {
    "name": "ipython",
    "version": 3
   },
   "file_extension": ".py",
   "mimetype": "text/x-python",
   "name": "python",
   "nbconvert_exporter": "python",
   "pygments_lexer": "ipython3",
   "version": "3.7.6"
  }
 },
 "nbformat": 4,
 "nbformat_minor": 4
}
